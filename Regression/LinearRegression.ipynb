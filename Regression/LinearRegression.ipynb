{
 "cells": [
  {
   "cell_type": "markdown",
   "id": "2b56080e-7654-4e2f-ab8c-afbc3b7209df",
   "metadata": {
    "hideCode": true,
    "hidePrompt": true
   },
   "source": [
    "# Regressão Linear -  *Em Construção*"
   ]
  },
  {
   "cell_type": "markdown",
   "id": "1f866e62",
   "metadata": {
    "hideCode": true,
    "hidePrompt": true
   },
   "source": [
    "Os modelos de regressão são frequentemente utilizados por aqueles que estão começando no mundo do aprendizado de máquina. Isso se deve, em parte, à sua relativa simplicidade e facilidade de interpretação do modelo matemático. Esses modelos têm sido fundamentais na estatística por um longo tempo e são amplamente ensinados em cursos introdutórios de estatística e ciência de dados.\n",
    "\n",
    "## Tipos de Modelos de Regressão\n",
    "\n",
    "Existem vários tipos de modelos de regressão, tais como:\n",
    "- Regressão Linear Simples\n",
    "- Regressão Linear Múltipla\n",
    "- Regressão Logística\n",
    "- Regressão de Poisson\n",
    "- Regressão Ridge e LASSO\n",
    "- Regressão Não Linear\n",
    "- Regressão Polinomial\n",
    "\n",
    "Neste notebook, nosso foco será na **regressão linear**, que é um conteúdo abrangente por si só. Para discutir os outros modelos, teremos notebooks separados.\n",
    "\n",
    "\n",
    "## O que é Regressão Linear?\n",
    "\n",
    "A regressão linear é uma fórmula matemática que modela a relação entre duas variáveis, conhecidas como variável dependente ou alvo e variável independente ou preditora. Essencialmente, usamos os dados de uma variável para prever o valor de outra variável. Esse método estatístico busca encontrar a melhor linha reta que se ajusta aos dados, minimizando a diferença entre os valores previstos pela equação e os valores reais observados nos dados.\n",
    "\n",
    "Pode parecer um pouco complexo, mas deixe-me explicar de forma mais simples:\n",
    "\n",
    "A regressão linear busca encontrar a linha reta, linha esta que é uma característica definidora da regressão linear, e que melhor representa a **relação entre as variáveis**. Por exemplo, ao analisarmos a relação entre o tempo de estudo de um aluno e suas notas em uma prova, a regressão linear tentará encontrar a linha que melhor descreve como as notas se relacionam com o tempo de estudo.\n",
    "\n",
    "### Compreendendo a Relação entre Variáveis\n",
    "\n",
    "Mas antes de prosseguirmos no estudo da regressão, devemos nos aprofundar um pouco mais no significado da \"relação entre variáveis\".\n",
    "\n",
    "A \"relação entre variáveis\" refere-se à maneira como duas ou mais variáveis diferentes estão interconectadas ou associadas em um conjunto de dados. Quando buscamos entender essa relação, estamos interessados em compreender se as mudanças em uma variável estão relacionadas às mudanças em outra variável. Aqui é onde entra o conceito estatístico de correlação.\n",
    "\n",
    "A correlação é uma medida estatística que avalia a força e a direção da relação entre duas variáveis. Ela nos auxilia a determinar se as variáveis se movem juntas (correlação positiva), se uma variável aumenta enquanto a outra diminui (correlação negativa) ou se não há uma relação clara entre elas (correlação fraca ou próxima de zero).\n",
    "\n",
    "### Exemplo Prático: Tempo de Estudo e Notas da Prova\n",
    "\n",
    "Como exemplo, podemos utilizar a relação mencionada anteriormente entre o tempo de estudo e as notas da prova. Ao analisar essa relação, estamos explorando a correlação entre essas variáveis. Uma correlação positiva significativa indicaria que mais tempo de estudo geralmente resulta em notas mais altas. Por outro lado, uma correlação negativa sugeriria que um aumento no tempo de estudo está associado a notas mais baixas. Se a correlação fosse próxima de zero, não haveria uma relação clara entre o tempo de estudo e as notas, indicando que o tempo de estudo não é um indicador forte das notas obtidas. Conforme tabela abaixo:\n"
   ]
  },
  {
   "cell_type": "markdown",
   "id": "9e914866",
   "metadata": {
    "hideCode": true,
    "hidePrompt": true
   },
   "source": [
    "|   Aluno   | Tempo de Estudo (horas) | Notas na Prova |\n",
    "|:---------:|:----------------------:|:--------------:|\n",
    "|     A     |          2             |       75       |\n",
    "|     B     |          3             |       82       |\n",
    "|     C     |         1.5            |       68       |\n",
    "|     D     |          4             |       90       |\n",
    "|     E     |         2.5            |       78       |\n",
    "|     F     |          1             |       60       |\n",
    "|     G     |         3.5            |       85       |\n",
    "|     H     |          2             |       76       |\n",
    "|     I     |         1.75           |       70       |\n",
    "|     J     |         4.5            |       92       |"
   ]
  },
  {
   "cell_type": "markdown",
   "id": "1731ad76",
   "metadata": {
    "hideCode": true,
    "hidePrompt": true
   },
   "source": [
    "Para entender de forma mais clara como a relação entre variáveis funciona, é recomendado plotar um gráfico de dispersão. Nesse sentido, uma ferramenta comum é o gráfico de dispersão (scatter plot), onde os pontos de dados são representados em um plano cartesiano. A visualização gráfica complementa a análise numérica da correlação, oferecendo uma compreensão mais profunda da relação entre as variáveis."
   ]
  },
  {
   "cell_type": "code",
   "execution_count": 8,
   "id": "96309783",
   "metadata": {
    "hideCode": true,
    "hideOutput": false,
    "hidePrompt": true,
    "tags": [
     "hide-input"
    ]
   },
   "outputs": [
    {
     "data": {
      "text/html": [
       "<script>\n",
       "code_show=true; \n",
       "function code_toggle() {\n",
       " if (code_show){\n",
       " $('div.input').hide();\n",
       " } else {\n",
       " $('div.input').show();\n",
       " }\n",
       " code_show = !code_show\n",
       "} \n",
       "$( document ).ready(code_toggle);\n",
       "</script>\n",
       "<form action=\"javascript:code_toggle()\"><input type=\"submit\" value=\"Clique Aqui para ver o código do gráfico\"></form>"
      ],
      "text/plain": [
       "<IPython.core.display.HTML object>"
      ]
     },
     "execution_count": 8,
     "metadata": {},
     "output_type": "execute_result"
    }
   ],
   "source": [
    "from IPython.display import HTML\n",
    "\n",
    "HTML('''<script>\n",
    "code_show=true; \n",
    "function code_toggle() {\n",
    " if (code_show){\n",
    " $('div.input').hide();\n",
    " } else {\n",
    " $('div.input').show();\n",
    " }\n",
    " code_show = !code_show\n",
    "} \n",
    "$( document ).ready(code_toggle);\n",
    "</script>\n",
    "<form action=\"javascript:code_toggle()\"><input type=\"submit\" value=\"Clique Aqui para ver o código do gráfico\"></form>''')"
   ]
  },
  {
   "cell_type": "code",
   "execution_count": 4,
   "id": "e7de7c25",
   "metadata": {
    "hideCode": false,
    "hidePrompt": false,
    "tags": [
     "hide-input"
    ]
   },
   "outputs": [],
   "source": [
    "import matplotlib.pyplot as plt\n",
    "\n",
    "plt.style.use(\"ggplot\")\n",
    "\n",
    "# Dados da tabela\n",
    "alunos = ['A', 'B', 'C', 'D', 'E', 'F', 'G', 'H', 'I', 'J']\n",
    "tempo_estudo = [2, 3, 1.5, 4, 2.5, 1, 3.5, 2, 1.75, 4.5]\n",
    "notas_prova = [75, 82, 68, 90, 78, 60, 85, 76, 70, 92]\n",
    "\n",
    "# Criando o gráfico de dispersão\n",
    "plt.figure(figsize=(10, 6))\n",
    "plt.scatter(tempo_estudo, notas_prova, color='blue', marker='o')\n",
    "plt.title('Tempo de Estudo vs. Notas na Prova')\n",
    "plt.xlabel('Tempo de Estudo (horas)')\n",
    "plt.ylabel('Notas na Prova')\n",
    "plt.grid(True)\n",
    "plt.savefig(\"figure/grafico_dispersao1.png\")\n",
    "plt.close()"
   ]
  },
  {
   "cell_type": "markdown",
   "id": "dd40d6cd",
   "metadata": {
    "hideCode": true,
    "hidePrompt": true
   },
   "source": [
    "<div style=\"text-align:center\">\n",
    "  <img src=\"figure/grafico_dispersao1.png\" alt=\"Gráfico de Dispersão\">\n",
    "</div>"
   ]
  },
  {
   "cell_type": "code",
   "execution_count": null,
   "id": "5466b2e5",
   "metadata": {
    "hideCode": true,
    "hidePrompt": true
   },
   "outputs": [],
   "source": []
  },
  {
   "cell_type": "code",
   "execution_count": null,
   "id": "22986b2d",
   "metadata": {
    "hideCode": true,
    "hidePrompt": true
   },
   "outputs": [],
   "source": []
  },
  {
   "cell_type": "markdown",
   "id": "874afd7c",
   "metadata": {
    "hideCode": true,
    "hidePrompt": true
   },
   "source": [
    "As linhas retas da regressão linear podem ser completamente definidicas por duas propriedades: intercepto e a inclinação"
   ]
  },
  {
   "cell_type": "markdown",
   "id": "7de2551d",
   "metadata": {
    "hideCode": true,
    "hidePrompt": true
   },
   "source": [
    "Uma vez ajustado o modelo, convém avaliar a qualidade do ajuste e um dos indicadores mais utilizados para essa finalidade é o coeficiente de determinação"
   ]
  },
  {
   "cell_type": "markdown",
   "id": "4adeb7c8",
   "metadata": {
    "hideCode": true,
    "hidePrompt": true
   },
   "source": [
    "- Premissa da regressão linear"
   ]
  },
  {
   "cell_type": "markdown",
   "id": "7983bfd0",
   "metadata": {
    "hideCode": true,
    "hidePrompt": true
   },
   "source": [
    "Principais premissas de uma regressão linear efetiva\n",
    "Premissas a serem consideradas para o sucesso com a análise de regressão linear:\n",
    "\n",
    "- Para cada variável: Considere o número de casos válidos, médias e desvio padrão.  \n",
    "- Para cada modelo: Considere coeficientes de regressão, matriz de correlação, correlações de partes e correlações parciais, múltiplos R, R2, R2 ajustado, mudança em R2, erro padrão da tabela de estimativa e análise de variância, valores previstos e resíduos. Além disso, considere intervalos de confiança de 95% para cada coeficiente de regressão, matriz de covariância-variância, fator de inflação de variância, tolerância, teste Durbin-Watson, medidas de distância (valores de Mahalanobis, Cook e utilização), DfBeta, DfFit, intervalos de previsão e informações de diagnóstico por caso.  \n",
    "- Gráficos: Use gráficos de dispersão, gráficos parciais, histogramas e gráficos de probabilidade normal.\n",
    "- Dados: As variáveis dependentes e independentes devem ser quantitativas. Variáveis categóricas, como religião, grande campo de estudo ou região de residência, precisam ser recodificadas para variáveis binárias (dummy) ou outros tipos de variáveis de contraste.  \n",
    "- Outras hipóteses: Para cada valor da variável independente, a distribuição da variável dependente deve ser normal. A variância da distribuição da variável dependente deve ser constante para todos os valores da variável independente. O relacionamento entre a variável dependente e cada variável independente deve ser linear e todas as observações devem ser independentes.\n",
    "\n",
    "Certifique-se de que seus dados atendam às premissas de regressão linear\n",
    "Antes de tentar executar a regressão linear, é necessário certificar-se de que seus dados possam ser analisados usando este procedimento. Seus dados devem passar por determinadas premissas necessárias.\n",
    "\n",
    "Veja como verificar essas premissas:\n",
    "\n",
    "- As variáveis devem ser medidas a nível contínuo. Exemplos de variáveis contínuas são tempo, vendas, peso e pontuações de teste.  \n",
    "- Use um gráfico de dispersão para descobrir rapidamente se há um relacionamento linear entre essas duas variáveis.\n",
    "- As observações devem ser independentes umas das outras (isto é, não deve haver dependência).\n",
    "- Seus dados não devem possuir valores discrepantes significativos.  \n",
    "- Verifique a homoscedasticidade, que é um conceito estatístico no qual as variações ao longo da linha de regressão linear de melhor ajuste permaneçam semelhantes por toda a linha.\n",
    "- Os resíduos (erros) da linha de regressão de melhor ajuste seguem a distribuição normal."
   ]
  },
  {
   "cell_type": "code",
   "execution_count": null,
   "id": "ced11f43-a341-4011-8764-6a216e84bbde",
   "metadata": {
    "hideCode": true,
    "hidePrompt": true
   },
   "outputs": [],
   "source": [
    "Modelos lineares não sabem o que é possível ou não na vida real.\n",
    "Isso significa que eles podem fornecer previsões que não fazem sentido quando aplicadas aos seus dados.\n",
    "Você precisa entender o que seus dados significam para determinar se uma previsão é absurda ou não."
   ]
  }
 ],
 "metadata": {
  "hide_code_all_hidden": true,
  "kernelspec": {
   "display_name": "Python 3",
   "language": "python",
   "name": "python3"
  },
  "language_info": {
   "codemirror_mode": {
    "name": "ipython",
    "version": 3
   },
   "file_extension": ".py",
   "mimetype": "text/x-python",
   "name": "python",
   "nbconvert_exporter": "python",
   "pygments_lexer": "ipython3",
   "version": "3.8.8"
  },
  "toc-autonumbering": false,
  "toc-showcode": false,
  "toc-showmarkdowntxt": false
 },
 "nbformat": 4,
 "nbformat_minor": 5
}
