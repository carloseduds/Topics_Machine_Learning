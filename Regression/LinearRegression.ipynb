{
 "cells": [
  {
   "cell_type": "markdown",
   "id": "2b56080e-7654-4e2f-ab8c-afbc3b7209df",
   "metadata": {},
   "source": [
    "# Regressão Linear -  *Em Construção*"
   ]
  },
  {
   "cell_type": "markdown",
   "id": "903c8b07",
   "metadata": {},
   "source": [
    "Modelos de Regressão são sem dúvida os mais utilizados por quem inicia sua jornada no mundo do aprendizado de máquina, e isso se deve a facilidade de interpretação do modelo matemático. Mas o que é regressão linear"
   ]
  },
  {
   "cell_type": "markdown",
   "id": "293518c9",
   "metadata": {},
   "source": [
    "- O que é regressão Linear"
   ]
  },
  {
   "cell_type": "markdown",
   "id": "2b423cfa",
   "metadata": {},
   "source": [
    "Regressão linear pode ser entendido como uma fórmula matemática que modela a **relação entre duas variaveis**, chamadas de variavel dependente ou alvo e a variavel independente ou preditora. Basicamente usamos os dados de uma variavel para prever o valor de outra variavel.\n",
    "\n",
    "Mas antes de prosseguirmos no estudo de regressão, devemos primeiro entender o que é significa \"relação entre duas variáveis\".\n",
    "\n",
    "Digamos que temos duas informações peso e distância, e queremos saber se a diminuição ou aumento de peso interfere na distância percorrida, conforme tabela a seguir, em outras palavras estamos tentando prever a distancia em metros (variavel dependente) que uma pessoa consegue percorrer baseados no peso em quilogramas (variavel independente).\n",
    "\n",
    "| Peso(kg) | Distância(m) |\n",
    "|----------|--------------|\n",
    "| 60       | 130          |\n",
    "| 65       | 122          |\n",
    "| 70       | 115          |\n",
    "| 75       | 110          |\n",
    "| 80       | 106          |\n",
    "| 85       | 97           |\n",
    "| 90       | 90           |\n",
    "| 95       | 85           |\n",
    "| 100      | 83           |\n"
   ]
  },
  {
   "cell_type": "markdown",
   "id": "65aafdd3",
   "metadata": {},
   "source": [
    "Analisando a tabela acima podemos perceber a existência de relacionamento entre as variaveis, visto que quanto mais o peso aumenta, menor a distância percorrida. Para melhor explicitar esse relacionamento podemos utilizar um diagrama de dispersão."
   ]
  },
  {
   "cell_type": "code",
   "execution_count": 7,
   "id": "25574d78",
   "metadata": {},
   "outputs": [
    {
     "data": {
      "image/png": "[encoded data removed]",
      "text/plain": [
       "<Figure size 432x288 with 1 Axes>"
      ]
     },
     "metadata": {
      "needs_background": "light"
     },
     "output_type": "display_data"
    }
   ],
   "source": [
    "import matplotlib.pyplot as plt\n",
    "    \n",
    "peso = [60, 65, 70, 75, 80, 85, 90, 95, 100]\n",
    "distancia = [130, 123.8, 114.5, 109.4, 103.7, 97, 90, 85.9, 83]\n",
    "\n",
    "plt.scatter(peso, distancia)\n",
    "\n",
    "plt.show()"
   ]
  },
  {
   "cell_type": "code",
   "execution_count": null,
   "id": "2f4b61ff",
   "metadata": {},
   "outputs": [],
   "source": [
    "A linha reta é uma caracteristica definidora da regressão linear"
   ]
  },
  {
   "cell_type": "markdown",
   "id": "874afd7c",
   "metadata": {},
   "source": [
    "As linhas retas da regressão linear podem ser completamente definidicas por duas propriedades: intercepto e a inclinação"
   ]
  },
  {
   "cell_type": "markdown",
   "id": "7de2551d",
   "metadata": {},
   "source": [
    "Uma vez ajustado o modelo, convém avaliar a qualidade do ajuste e um dos indicadores mais utilizados para essa finalidade é o coeficiente de determinação"
   ]
  },
  {
   "cell_type": "markdown",
   "id": "4adeb7c8",
   "metadata": {},
   "source": [
    "- Premissa da regressão linear"
   ]
  },
  {
   "cell_type": "markdown",
   "id": "7983bfd0",
   "metadata": {},
   "source": [
    "Principais premissas de uma regressão linear efetiva\n",
    "Premissas a serem consideradas para o sucesso com a análise de regressão linear:\n",
    "\n",
    "- Para cada variável: Considere o número de casos válidos, médias e desvio padrão.  \n",
    "- Para cada modelo: Considere coeficientes de regressão, matriz de correlação, correlações de partes e correlações parciais, múltiplos R, R2, R2 ajustado, mudança em R2, erro padrão da tabela de estimativa e análise de variância, valores previstos e resíduos. Além disso, considere intervalos de confiança de 95% para cada coeficiente de regressão, matriz de covariância-variância, fator de inflação de variância, tolerância, teste Durbin-Watson, medidas de distância (valores de Mahalanobis, Cook e utilização), DfBeta, DfFit, intervalos de previsão e informações de diagnóstico por caso.  \n",
    "- Gráficos: Use gráficos de dispersão, gráficos parciais, histogramas e gráficos de probabilidade normal.\n",
    "- Dados: As variáveis dependentes e independentes devem ser quantitativas. Variáveis categóricas, como religião, grande campo de estudo ou região de residência, precisam ser recodificadas para variáveis binárias (dummy) ou outros tipos de variáveis de contraste.  \n",
    "- Outras hipóteses: Para cada valor da variável independente, a distribuição da variável dependente deve ser normal. A variância da distribuição da variável dependente deve ser constante para todos os valores da variável independente. O relacionamento entre a variável dependente e cada variável independente deve ser linear e todas as observações devem ser independentes.\n",
    "\n",
    "Certifique-se de que seus dados atendam às premissas de regressão linear\n",
    "Antes de tentar executar a regressão linear, é necessário certificar-se de que seus dados possam ser analisados usando este procedimento. Seus dados devem passar por determinadas premissas necessárias.\n",
    "\n",
    "Veja como verificar essas premissas:\n",
    "\n",
    "- As variáveis devem ser medidas a nível contínuo. Exemplos de variáveis contínuas são tempo, vendas, peso e pontuações de teste.  \n",
    "- Use um gráfico de dispersão para descobrir rapidamente se há um relacionamento linear entre essas duas variáveis.\n",
    "- As observações devem ser independentes umas das outras (isto é, não deve haver dependência).\n",
    "- Seus dados não devem possuir valores discrepantes significativos.  \n",
    "- Verifique a homoscedasticidade, que é um conceito estatístico no qual as variações ao longo da linha de regressão linear de melhor ajuste permaneçam semelhantes por toda a linha.\n",
    "- Os resíduos (erros) da linha de regressão de melhor ajuste seguem a distribuição normal."
   ]
  },
  {
   "cell_type": "code",
   "execution_count": null,
   "id": "0c2f10ba",
   "metadata": {},
   "outputs": [],
   "source": []
  },
  {
   "cell_type": "markdown",
   "id": "7c0992ad",
   "metadata": {},
   "source": [
    "- criando o modelo"
   ]
  },
  {
   "cell_type": "markdown",
   "id": "31f500a0",
   "metadata": {},
   "source": [
    "- metricas de análise"
   ]
  },
  {
   "cell_type": "markdown",
   "id": "95b34169",
   "metadata": {},
   "source": [
    "- performance"
   ]
  },
  {
   "cell_type": "markdown",
   "id": "50c7400b-cdf5-4037-9b77-ee875f174fd1",
   "metadata": {},
   "source": [
    "Interpecto: é o valor quando y é igual a zero.\n",
    "\n",
    "Inclinação: é a inclinação da linha, igual ao valor de y quando se aumenta x em 1."
   ]
  },
  {
   "cell_type": "code",
   "execution_count": null,
   "id": "ced11f43-a341-4011-8764-6a216e84bbde",
   "metadata": {},
   "outputs": [],
   "source": [
    "Modelos lineares não sabem o que é possível ou não na vida real.\n",
    "Isso significa que eles podem fornecer previsões que não fazem sentido quando aplicadas aos seus dados.\n",
    "Você precisa entender o que seus dados significam para determinar se uma previsão é absurda ou não."
   ]
  }
 ],
 "metadata": {
  "kernelspec": {
   "display_name": "Python 3",
   "language": "python",
   "name": "python3"
  },
  "language_info": {
   "codemirror_mode": {
    "name": "ipython",
    "version": 3
   },
   "file_extension": ".py",
   "mimetype": "text/x-python",
   "name": "python",
   "nbconvert_exporter": "python",
   "pygments_lexer": "ipython3",
   "version": "3.8.8"
  },
  "toc-autonumbering": false,
  "toc-showcode": false,
  "toc-showmarkdowntxt": false
 },
 "nbformat": 4,
 "nbformat_minor": 5
}
